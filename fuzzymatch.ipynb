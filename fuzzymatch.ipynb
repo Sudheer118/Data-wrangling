{
 "cells": [
  {
   "cell_type": "code",
   "execution_count": 9,
   "id": "af1deb5c-4089-44b8-908e-60b5b1bc9008",
   "metadata": {},
   "outputs": [
    {
     "name": "stdout",
     "output_type": "stream",
     "text": [
      "Collecting python-Levenshtein\n",
      "  Downloading python_levenshtein-0.27.1-py3-none-any.whl.metadata (3.7 kB)\n",
      "Collecting Levenshtein==0.27.1 (from python-Levenshtein)\n",
      "  Downloading levenshtein-0.27.1-cp312-cp312-win_amd64.whl.metadata (3.6 kB)\n",
      "Collecting rapidfuzz<4.0.0,>=3.9.0 (from Levenshtein==0.27.1->python-Levenshtein)\n",
      "  Downloading rapidfuzz-3.12.2-cp312-cp312-win_amd64.whl.metadata (12 kB)\n",
      "Downloading python_levenshtein-0.27.1-py3-none-any.whl (9.4 kB)\n",
      "Downloading levenshtein-0.27.1-cp312-cp312-win_amd64.whl (100 kB)\n",
      "Downloading rapidfuzz-3.12.2-cp312-cp312-win_amd64.whl (1.6 MB)\n",
      "   ---------------------------------------- 0.0/1.6 MB ? eta -:--:--\n",
      "   -------------------------------------- - 1.6/1.6 MB 42.3 MB/s eta 0:00:01\n",
      "   ---------------------------------------- 1.6/1.6 MB 3.3 MB/s eta 0:00:00\n",
      "Installing collected packages: rapidfuzz, Levenshtein, python-Levenshtein\n",
      "Successfully installed Levenshtein-0.27.1 python-Levenshtein-0.27.1 rapidfuzz-3.12.2\n"
     ]
    }
   ],
   "source": [
    "!pip install python-Levenshtein\n"
   ]
  },
  {
   "cell_type": "code",
   "execution_count": 10,
   "id": "4ec82850-d008-4dc6-8983-91fcc6114c9b",
   "metadata": {},
   "outputs": [
    {
     "name": "stdout",
     "output_type": "stream",
     "text": [
      "fuzzy match score between ,'apple' and 'applle':91\n"
     ]
    }
   ],
   "source": [
    "\n",
    "from fuzzywuzzy import fuzz\n",
    "# Two strings to compare\n",
    "\n",
    "str1= \"apple\"\n",
    "str2 =\"applle\"\n",
    "\n",
    " #calculate the fuzzy match score using the levenshtein Distance\n",
    "score= fuzz.ratio(str1,str2)\n",
    "\n",
    "\n",
    "print(f\"fuzzy match score between ,'{str1}' and '{str2}':{score}\")\n",
    "\n"
   ]
  },
  {
   "cell_type": "code",
   "execution_count": 14,
   "id": "11314ba7-ff62-48ac-bc64-9b0f17ee8df0",
   "metadata": {},
   "outputs": [
    {
     "name": "stdout",
     "output_type": "stream",
     "text": [
      " similarity ratio :100\n"
     ]
    }
   ],
   "source": [
    "# Token sort ratio\n",
    "similarity= fuzz.token_sort_ratio(\"apple pie\",\"pie apple\")\n",
    "print(f\" similarity ratio :{similarity}\")"
   ]
  },
  {
   "cell_type": "code",
   "execution_count": 20,
   "id": "b8a0db2d-7bf4-4e44-9d2d-aa57c54309e1",
   "metadata": {},
   "outputs": [
    {
     "name": "stdout",
     "output_type": "stream",
     "text": [
      " Token set similarity : 100\n"
     ]
    }
   ],
   "source": [
    "#Token set ratio similar to token_sort_ratio, but it removes duplicates in the strings before comparing\n",
    "similarity= fuzz.token_set_ratio(\"apple pie apple\", \"apple pie\")\n",
    "print(f\" Token set similarity : {similarity}\")"
   ]
  },
  {
   "cell_type": "code",
   "execution_count": null,
   "id": "0ec89ab0-e819-4d3c-a947-e331db0b59af",
   "metadata": {},
   "outputs": [],
   "source": [
    "#Fuzzy Matching with Lists of Strings\n"
   ]
  }
 ],
 "metadata": {
  "kernelspec": {
   "display_name": "Python 3 (ipykernel)",
   "language": "python",
   "name": "python3"
  },
  "language_info": {
   "codemirror_mode": {
    "name": "ipython",
    "version": 3
   },
   "file_extension": ".py",
   "mimetype": "text/x-python",
   "name": "python",
   "nbconvert_exporter": "python",
   "pygments_lexer": "ipython3",
   "version": "3.12.7"
  }
 },
 "nbformat": 4,
 "nbformat_minor": 5
}
